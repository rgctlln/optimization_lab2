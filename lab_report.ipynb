{
 "cells": [
  {
   "cell_type": "markdown",
   "id": "9510c40b7f066292",
   "metadata": {},
   "source": [
    "<div style=\"text-align:center;\">\n",
    "  <b>Национальный исследовательский университет ИТМО</b><br>\n",
    "  Факультет информационных технологий и программирования<br>\n",
    "  Кафедра Компьютерных Технологий\n",
    "</div>\n",
    "\n",
    "\n",
    "---\n",
    "\n",
    "# **Методы оптимизации**  \n",
    "### Лабораторная работа №2 \n",
    "### Продвинутые методы\n",
    "\n",
    "<div style=\"text-align:right; font-size:12px\">\n",
    "Выполнили:<br>\n",
    "Алфёров Кирилл М3232<br>\n",
    "Салов Егор М3232\n",
    "</div>\n",
    "\n",
    "\n",
    "\n"
   ]
  },
  {
   "cell_type": "markdown",
   "id": "c0a23f20ae434c6a",
   "metadata": {},
   "source": [
    "### IMPORTS"
   ]
  },
  {
   "cell_type": "code",
   "id": "e9642ce8d3edd982",
   "metadata": {},
   "source": [
    "import numpy as np\n",
    "import sympy\n",
    "from numpy import ndarray\n",
    "from scipy.optimize._linesearch import line_search\n",
    "from scipy.optimize import minimize\n",
    "from sympy import symbols, lambdify, PrecisionExhausted\n",
    "\n",
    "from source.BackTrace import BackTrace\n",
    "from source.Function import Function\n",
    "from source.graphics import *\n",
    "from source.one_dimensional_search.Dichotomy import dichotomy\n",
    "from source.one_dimensional_search.GoldenSectionSearch import golden_section_search\n",
    "\n",
    "x, y = symbols('x y')"
   ],
   "outputs": [],
   "execution_count": null
  },
  {
   "cell_type": "markdown",
   "id": "a22cf998dd928e35",
   "metadata": {},
   "source": [
    "#### Функция №1\n",
    "\n",
    "\n",
    "$$\n",
    "f(x, y) = x^2 + y^2 - 1\n",
    "$$\n",
    "---\n",
    "---"
   ]
  },
  {
   "cell_type": "markdown",
   "id": "4e50eab7939a5a00",
   "metadata": {},
   "source": [
    "#### Функция №2\n",
    "\n",
    "$$\n",
    "f(x, y) = sin(x) * cos(y) + x^2 + y^2\n",
    "$$\n",
    "---\n",
    "---"
   ]
  },
  {
   "cell_type": "markdown",
   "id": "97d787fd7f84a982",
   "metadata": {},
   "source": [
    "## Метод Ньютона с выбором шага и одномерным поиском"
   ]
  },
  {
   "cell_type": "markdown",
   "id": "4f89a6b7358ca974",
   "metadata": {},
   "source": [
    "### 1.1. Реализация метода Ньютона с выбором шага\n",
    "\n",
    "Метод Ньютона — это итерационный метод оптимизации, в котором используются градиент и гессиан. Точка обновляется по формуле:\n",
    "\n",
    "$$\n",
    "x_{k+1} = x_k + \\alpha_k \\cdot p_k, \\quad \\text{где } p_k = -[\\nabla^2 f(x_k)]^{-1} \\nabla f(x_k)\n",
    "$$\n",
    "\n",
    "<p>\n",
    "Длина шага <code>&alpha;<sub>k</sub></code> не фиксирована, а подбирается с помощью одномерного поиска — например, методом дихотомии или золотого сечения — для минимизации вдоль направления <code>p_k</code>:\n",
    "</p>\n",
    "\n",
    "$$\n",
    "\\phi(\\alpha) = f(x_k + \\alpha \\cdot p_k)\n",
    "$$\n",
    "\n",
    "#### Градиент и гессиан\n",
    "\n",
    "Для функции  \n",
    "$$f(x_1, x_2, \\dots, x_n)$$  \n",
    "градиент и гессиан определяются как:\n",
    "\n",
    "$$\n",
    "\\nabla f(x) = \\left( \\frac{\\partial f}{\\partial x_1}, \\dots, \\frac{\\partial f}{\\partial x_n} \\right), \\quad \n",
    "\\nabla^2 f(x) = \\left[ \\frac{\\partial^2 f}{\\partial x_i \\partial x_j} \\right]_{i,j}\n",
    "$$\n",
    "\n",
    "---\n",
    "\n",
    "#### **Преимущества:**\n",
    "\n",
    "- Быстрая сходимость \n",
    "- Точное направление движения за счёт учёта гессиана\n",
    "- Шаг подбирается автоматически, не требует ручного выбора\n",
    "\n",
    "---\n",
    "\n",
    "#### **Недостатки:**\n",
    "\n",
    "- Требует вычисления и инверсии гессиана\n",
    "- Не работает при вырожденном или неопределённом гессиане\n",
    "- Более сложная реализация, чем у градиентного спуска\n",
    "\n",
    "Метод Ньютона с одномерным поиском хорошо работает на гладких, выпуклых функциях, но требует аккуратного обращения с матрицей вторых производных.\n"
   ]
  },
  {
   "cell_type": "markdown",
   "id": "50451adc54ff93e7",
   "metadata": {},
   "source": [
    "функция для сравнения x^10 + y^2"
   ]
  },
  {
   "cell_type": "markdown",
   "id": "7e246b35abaf916d",
   "metadata": {},
   "source": [
    "---"
   ]
  },
  {
   "cell_type": "markdown",
   "id": "44da3536d166f30a",
   "metadata": {},
   "source": [
    "### Анализ поведения на функции №1"
   ]
  },
  {
   "cell_type": "markdown",
   "id": "6c7e9cf7ad53c07",
   "metadata": {},
   "source": "#### Константный шаг"
  },
  {
   "cell_type": "code",
   "id": "9f727b3e42158dfa",
   "metadata": {},
   "source": [
    "func = Function(-x ** 2 - y ** 2 + 10)\n",
    "try:\n",
    "    BackTrace(func).set_constant_step(constant_step=0.3).set_create_graphic().start_back_trace()\n",
    "except Exception:\n",
    "    pass"
   ],
   "outputs": [],
   "execution_count": null
  },
  {
   "cell_type": "markdown",
   "id": "5642bd40be6f39c5",
   "metadata": {},
   "source": [
    "---"
   ]
  },
  {
   "cell_type": "markdown",
   "id": "b7ba2f692e05094e",
   "metadata": {},
   "source": "#### Кусочно-постоянный шаг"
  },
  {
   "cell_type": "code",
   "id": "5306af97d6b12452",
   "metadata": {},
   "source": [
    "try:\n",
    "    BackTrace(func).set_piecewise_constant(start_step=0.5).set_create_graphic().start_back_trace()\n",
    "except Exception:\n",
    "    pass"
   ],
   "outputs": [],
   "execution_count": null
  },
  {
   "cell_type": "markdown",
   "id": "a79dc96cbc70166d",
   "metadata": {},
   "source": [
    "---"
   ]
  },
  {
   "cell_type": "markdown",
   "id": "5e614008cb83ded0",
   "metadata": {},
   "source": "#### Экспоненциальное затухание"
  },
  {
   "cell_type": "code",
   "id": "6388100898abbd6",
   "metadata": {},
   "source": [
    "try:\n",
    "    BackTrace(func).set_exponential_decay(exponential_decay=0.5,\n",
    "                                          start_step=1).set_create_graphic().set_full_output().start_back_trace()\n",
    "except Exception:\n",
    "    pass\n"
   ],
   "outputs": [],
   "execution_count": null
  },
  {
   "cell_type": "markdown",
   "id": "744b8352e86a7cd6",
   "metadata": {},
   "source": [
    "---"
   ]
  },
  {
   "cell_type": "markdown",
   "id": "bac56074937cfe5d",
   "metadata": {},
   "source": "#### Реализация с методом одномерного поиска: метод золотого сечения"
  },
  {
   "cell_type": "code",
   "id": "8df85a425d4128f",
   "metadata": {},
   "source": [
    "try:\n",
    "    BackTrace(func).set_golden_section_step(0.7, 0.7).set_create_graphic().set_full_output().start_back_trace()\n",
    "except Exception:\n",
    "    pass\n"
   ],
   "outputs": [],
   "execution_count": null
  },
  {
   "cell_type": "markdown",
   "id": "4ce2c1dd7c16042c",
   "metadata": {},
   "source": [
    "---"
   ]
  },
  {
   "cell_type": "markdown",
   "id": "2470c9a5ea93d3fc",
   "metadata": {},
   "source": "#### Реализация с методом одномерного поиска: метод дихотомии"
  },
  {
   "cell_type": "code",
   "id": "935065fc457e3c5f",
   "metadata": {},
   "source": [
    "try:\n",
    "    BackTrace(func).set_dichotomy_step(0.7, 0.7).set_create_graphic().set_full_output().start_back_trace()\n",
    "except Exception:\n",
    "    pass\n"
   ],
   "outputs": [],
   "execution_count": null
  },
  {
   "cell_type": "markdown",
   "id": "28443f09c2ce14e2",
   "metadata": {},
   "source": [
    "---"
   ]
  },
  {
   "cell_type": "markdown",
   "id": "f9eb05c7518ebabf",
   "metadata": {},
   "source": [
    "### Анализ поведения на функции №2"
   ]
  },
  {
   "cell_type": "markdown",
   "id": "3209b980c4ace63f",
   "metadata": {},
   "source": "#### Константный шаг"
  },
  {
   "cell_type": "code",
   "id": "b690c9aa171cc712",
   "metadata": {},
   "source": [
    "func = Function(sympy.sin(x) * sympy.cos(y) + x ** 2 + y ** 2)\n",
    "BackTrace(func).set_constant_step(constant_step=0.3).set_create_graphic().start_back_trace()"
   ],
   "outputs": [],
   "execution_count": null
  },
  {
   "cell_type": "markdown",
   "id": "8226340098b177d7",
   "metadata": {},
   "source": [
    "---"
   ]
  },
  {
   "cell_type": "markdown",
   "id": "e429e95c5f9e1698",
   "metadata": {},
   "source": "#### Кусочно-постоянный шаг"
  },
  {
   "cell_type": "code",
   "id": "961edefb92efddd8",
   "metadata": {},
   "source": [
    "BackTrace(func).set_piecewise_constant(start_step=0.5).set_create_graphic().start_back_trace()"
   ],
   "outputs": [],
   "execution_count": null
  },
  {
   "cell_type": "markdown",
   "id": "54dc347228584063",
   "metadata": {},
   "source": [
    "---"
   ]
  },
  {
   "cell_type": "markdown",
   "id": "5994c75fd87a6f3b",
   "metadata": {},
   "source": "#### Экспоненциальное затухание"
  },
  {
   "cell_type": "code",
   "id": "9f25ce2659f2fb79",
   "metadata": {},
   "source": [
    "BackTrace(func).set_exponential_decay(exponential_decay=0.05,\n",
    "                                      start_step=1).set_create_graphic().set_full_output().start_back_trace()"
   ],
   "outputs": [],
   "execution_count": null
  },
  {
   "cell_type": "markdown",
   "id": "b4dc20cd09e2aca",
   "metadata": {},
   "source": [
    "---"
   ]
  },
  {
   "cell_type": "markdown",
   "id": "8ff59780483cf51b",
   "metadata": {},
   "source": "#### Реализация с методом одномерного поиска: метод золотого сечения"
  },
  {
   "cell_type": "code",
   "id": "9eac38583d5e7662",
   "metadata": {},
   "source": [
    "BackTrace(func).set_golden_section_step(0.7, 0.7).set_create_graphic().set_full_output().start_back_trace()\n"
   ],
   "outputs": [],
   "execution_count": null
  },
  {
   "cell_type": "markdown",
   "id": "b5c1a57e07c2e84c",
   "metadata": {},
   "source": [
    "---"
   ]
  },
  {
   "cell_type": "markdown",
   "id": "4c36e80d9d5a3b59",
   "metadata": {},
   "source": "#### Реализация с методом одномерного поиска: метод дихотомии"
  },
  {
   "cell_type": "code",
   "id": "c00a771d863be56e",
   "metadata": {},
   "source": [
    "BackTrace(func).set_dichotomy_step(0.7, 0.7).set_create_graphic().set_full_output().start_back_trace()\n"
   ],
   "outputs": [],
   "execution_count": null
  },
  {
   "cell_type": "markdown",
   "id": "40ae1edb86b565c8",
   "metadata": {},
   "source": [
    "---"
   ]
  },
  {
   "cell_type": "markdown",
   "id": "f06f3eed745a30a7",
   "metadata": {},
   "source": "## Методы из scipy.optimize: Newton-CG и квазиньютоновские."
  },
  {
   "cell_type": "markdown",
   "id": "ec079d4b66b956e",
   "metadata": {},
   "source": [
    "## Использование `scipy.optimize` для численной оптимизации\n",
    "\n",
    "Библиотека `scipy.optimize` предоставляет готовые реализации различных методов оптимизации, которые мы проанализировали и использовали\n",
    "\n",
    "В этой работе использовались три метода:\n",
    "\n",
    "---\n",
    "\n",
    "### BFGS (`method=\"BFGS\"`)\n",
    "\n",
    "Это стандартная реализация квазиньютоновского метода BFGS:\n",
    "\n",
    "- приближение обратного Гессиана обновляется на каждой итерации\n",
    "- требуется только градиент (Гессиан не нужен)\n",
    "\n",
    "\n",
    "```python\n",
    "from scipy.optimize import minimize\n",
    "\n",
    "res = minimize(fun, x0, method='BFGS', jac=grad)\n",
    "```\n",
    "---\n",
    "\n",
    "### L-BFGS-B (`method=\"L-BFGS-B\"`)\n",
    "\n",
    "- Упрощённый BFGS с ограниченной памятью\n",
    "- Не хранит полный гессиан, а вместо этого использует несколько последних направлений\n",
    "- Подходит для задач с большим числом параметров\n",
    "\n",
    "```python\n",
    "res = minimize(fun, x0, method=\"L-BFGS-B\", jac=grad, bounds=[(0, None), (0, None)])\n",
    "```\n",
    "\n",
    "---\n",
    "\n",
    "### Newton-CG (`method=\"Newton-CG\"`)\n",
    "\n",
    "- Метод Ньютона с использованием сопряжённых градиентов\n",
    "- Требуется градиент и гессиан (или функция действия гессиана)\n",
    "\n",
    "```python\n",
    "res = minimize(fun, x0, method=\"Newton-CG\", jac=grad, hess=hess)\n",
    "```\n",
    "\n",
    "---\n",
    "\n",
    "### Сравнение методов\n",
    "\n",
    "| Метод       | Поддержка ограничений | Нужен гессиан | Масштабируемость | Когда использовать               |\n",
    "|-------------|------------------------|----------------|-------------------|----------------------------------|\n",
    "| BFGS        | Нет                    | Нет            | Средняя           | Простые гладкие задачи           |\n",
    "| L-BFGS-B    | Да                     | Нет            | Высокая           | Большое число параметров         |\n",
    "| Newton-CG   | Нет                    | Да             | Средняя           | Есть гессиан, нужна точность     |\n",
    "\n",
    "---"
   ]
  },
  {
   "cell_type": "markdown",
   "id": "e1da561e39cdc9bc",
   "metadata": {},
   "source": [
    "### Newton-CG (Newton conjugate gradient method)"
   ]
  },
  {
   "cell_type": "markdown",
   "id": "8accb9da0f384f7b",
   "metadata": {},
   "source": [
    "Метод Newton-CG (Newton–Conjugate Gradient) — это модификация метода Ньютона, в которой не требуется напрямую инвертировать гессиан. Вместо этого направление \\( p_k \\) ищется методом сопряжённых градиентов:\n",
    "\n",
    "$$\n",
    "\\nabla^2 f(x_k) \\cdot p_k = -\\nabla f(x_k)\n",
    "$$\n",
    "\n",
    "<p>\n",
    "Это позволяет эффективно применять метод к функциям с большим числом переменных без хранения полной матрицы гессиана. Вместо неё используется функция, вычисляющая <code>H · v</code> — произведение гессиана на вектор.\n",
    "</p>\n",
    "\n",
    "<p>\n",
    "Шаг <code>&alpha;<sub>k</sub></code> может подбираться внутренне (встроенным line search) или задаваться явно.\n",
    "</p>\n",
    "\n",
    "### Используется:\n",
    "\n",
    "- Там, где гессиан трудно хранить или инвертировать\n",
    "\n",
    "---\n",
    "\n",
    "### **Преимущества:**\n",
    "\n",
    "- Не требует хранения гессиана\n",
    "- Подходит для задач с большим числом переменных\n",
    "- Быстрее обычного Ньютона на крупных задачах\n",
    "\n",
    "---\n",
    "\n",
    "### **Недостатки:**\n",
    "\n",
    "- Требует реализации действия гессиана на вектор (или приближённой функции)\n",
    "- Не работает с ограничениями\n",
    "- Может плохо сходиться при плохой обусловленности\n",
    "\n",
    "Метод Newton-CG особенно полезен в задачах, где гессиан не хочется хранить, но его действие на вектор можно вычислить.\n"
   ]
  },
  {
   "cell_type": "markdown",
   "id": "cde0b8b79db976e6",
   "metadata": {},
   "source": [
    "---"
   ]
  },
  {
   "cell_type": "markdown",
   "id": "d5870f6dca3abf3a",
   "metadata": {},
   "source": [
    "### Анализ поведения на функции №1"
   ]
  },
  {
   "cell_type": "code",
   "id": "157b9878794b7d72",
   "metadata": {},
   "source": [
    "def wrapped_func(x):\n",
    "    val = new_func(x)\n",
    "    fx = float(val)\n",
    "    trajectory.append([x[0], x[1], fx])\n",
    "    return fx\n",
    "\n",
    "\n",
    "f_expr = x ** 2 + y ** 2 - 1\n",
    "new_func = Function(f_expr)\n",
    "\n",
    "trajectory = []\n",
    "\n",
    "jac_func = new_func.grad_numpy_callable()\n",
    "\n",
    "result = minimize(wrapped_func, x0=np.array([-1.56, 2.34]), method='Newton-CG', jac=jac_func)\n",
    "print(f'Минимум функции: {result.fun}')\n",
    "print(f'x: {result.x[0]}, y: {result.x[1]}')\n",
    "\n",
    "d3_create_graphic(x ** 2 + y ** 2 - 1, minimum=(0, 0, -1), dataset=trajectory)\n",
    "d3_create_graphic(x ** 2 + y ** 2 - 1, minimum=(0, 0, -1), dataset=trajectory, view_2d=True)"
   ],
   "outputs": [],
   "execution_count": null
  },
  {
   "cell_type": "markdown",
   "id": "f03df6e173900c39",
   "metadata": {},
   "source": [
    "---"
   ]
  },
  {
   "cell_type": "markdown",
   "id": "65add146e6035e64",
   "metadata": {},
   "source": [
    "### Анализ поведения на функции №2"
   ]
  },
  {
   "cell_type": "code",
   "id": "c5b8a6dcf8df8e99",
   "metadata": {},
   "source": [
    "def wrapped_func(x):\n",
    "    val = new_func(x)\n",
    "    fx = float(val)\n",
    "    trajectory.append([x[0], x[1], fx])\n",
    "    return fx\n",
    "\n",
    "\n",
    "np_func = sympy.sin(x) * sympy.cos(y) + x ** 2 + y ** 2\n",
    "new_func = Function(np_func)\n",
    "trajectory = []\n",
    "\n",
    "jac_func = new_func.grad_numpy_callable()\n",
    "\n",
    "result = minimize(wrapped_func, x0=np.array([10, -1.2]), method='Newton-CG', jac=jac_func)\n",
    "print(f'Минимум функции: {result.fun}')\n",
    "print(f'x: {result.x[0]}, y: {result.x[1]}')\n",
    "\n",
    "d3_create_graphic(\n",
    "    new_func.function,\n",
    "    dataset=trajectory\n",
    ")\n",
    "\n",
    "d3_create_graphic(\n",
    "    new_func.function,\n",
    "    dataset=trajectory,\n",
    "    view_2d=True\n",
    ")\n"
   ],
   "outputs": [],
   "execution_count": null
  },
  {
   "cell_type": "markdown",
   "id": "3ca4aa6bf836bd26",
   "metadata": {},
   "source": [
    "---"
   ]
  },
  {
   "cell_type": "markdown",
   "id": "2cd3374643188cec",
   "metadata": {},
   "source": [
    "### Квазиньютоновские методы"
   ]
  },
  {
   "cell_type": "markdown",
   "id": "915d50a46ade9acb",
   "metadata": {},
   "source": [
    "Квазиньютоновские методы приближают метод Ньютона, не вычисляя гессиан явно. Вместо этого на каждой итерации строится приближение к гессиану на основе градиентов:\n",
    "\n",
    "$$\n",
    "x_{k+1} = x_k + \\alpha_k \\cdot p_k, \\quad \\text{где } p_k = -B_k^{-1} \\cdot \\nabla f(x_k)\n",
    "$$\n",
    "\n",
    "<p>\n",
    "<code>B<sub>k</sub></code> — это приближённая матрица гессиана. Она обновляется на каждом шаге, что позволяет применять метод, не зная вторых производных.\n",
    "</p>\n",
    "\n",
    "### Основные методы:\n",
    "\n",
    "- <strong>BFGS</strong> — классический квазиньютоновский метод, хранищий полную аппроксимацию гессиана\n",
    "- <strong>L-BFGS-B</strong> — «обрезанная» версия, не хранящая весь гессиан\n",
    "\n",
    "---\n",
    "\n",
    "### **Преимущества:**\n",
    "\n",
    "- Не требует гессиана\n",
    "- Подходит для средних и больших задач\n",
    "- L-BFGS-B работает с ограничениями\n",
    "\n",
    "---\n",
    "\n",
    "### **Недостатки:**\n",
    "\n",
    "- Медленнее чистого Ньютона\n",
    "- Менее точен на сложных рельефах\n",
    "- Требует аккуратного подбора параметров и начальной точки\n",
    "\n",
    "Квазиньютоновские методы — разумный компромисс, если гессиан вычислять невозможно или неэффективно. Они широко применяются на практике."
   ]
  },
  {
   "cell_type": "markdown",
   "id": "2803a7f2d620d21d",
   "metadata": {},
   "source": [
    "---"
   ]
  },
  {
   "cell_type": "markdown",
   "id": "2472508bd4a6aff",
   "metadata": {},
   "source": [
    "### BFGS"
   ]
  },
  {
   "cell_type": "markdown",
   "id": "65b9f3365715232",
   "metadata": {},
   "source": [
    "### Анализ поведения на функции №1"
   ]
  },
  {
   "cell_type": "code",
   "id": "52bb563acf5103cb",
   "metadata": {},
   "source": [
    "def wrapped_func(x):\n",
    "    val = new_func(x)\n",
    "    fx = float(val)\n",
    "    trajectory.append([x[0], x[1], fx])\n",
    "    return fx\n",
    "\n",
    "\n",
    "f_expr = x ** 2 + y ** 2 - 1\n",
    "new_func = Function(f_expr)\n",
    "\n",
    "trajectory = []\n",
    "\n",
    "jac_func = new_func.grad_numpy_callable()\n",
    "\n",
    "result = minimize(wrapped_func, x0=np.array([-1.56, 2.34]), method='BFGS', jac=jac_func)\n",
    "print(f'Минимум функции: {result.fun}')\n",
    "print(f'x: {result.x[0]}, y: {result.x[1]}')\n",
    "\n",
    "d3_create_graphic(x ** 2 + y ** 2 - 1, minimum=(0, 0, -1), dataset=trajectory)\n",
    "d3_create_graphic(x ** 2 + y ** 2 - 1, minimum=(0, 0, -1), dataset=trajectory, view_2d=True)"
   ],
   "outputs": [],
   "execution_count": null
  },
  {
   "metadata": {},
   "cell_type": "markdown",
   "source": "---",
   "id": "2279e182112557ed"
  },
  {
   "cell_type": "markdown",
   "id": "14b7a03c887b5d80",
   "metadata": {},
   "source": [
    "### Анализ поведения на функции №2"
   ]
  },
  {
   "cell_type": "code",
   "id": "1a3c302f78695c26",
   "metadata": {},
   "source": [
    "def wrapped_func(x):\n",
    "    val = new_func(x)\n",
    "    fx = float(val)\n",
    "    trajectory.append([x[0], x[1], fx])\n",
    "    return fx\n",
    "\n",
    "\n",
    "np_func = sympy.sin(x) * sympy.cos(y) + x ** 2 + y ** 2\n",
    "new_func = Function(np_func)\n",
    "trajectory = []\n",
    "\n",
    "jac_func = new_func.grad_numpy_callable()\n",
    "\n",
    "result = minimize(wrapped_func, x0=np.array([-1.5, 1.5]), method='BFGS', jac=jac_func)\n",
    "print(f'Минимум функции: {result.fun}')\n",
    "print(f'x: {result.x[0]}, y: {result.x[1]}')\n",
    "\n",
    "d3_create_graphic(\n",
    "    new_func.function,\n",
    "    minimum=(result.x[0], result.x[1], result.fun),\n",
    "    dataset=trajectory\n",
    ")\n",
    "\n",
    "d3_create_graphic(\n",
    "    new_func.function,\n",
    "    minimum=(result.x[0], result.x[1], result.fun),\n",
    "    dataset=trajectory,\n",
    "    view_2d=True\n",
    ")"
   ],
   "outputs": [],
   "execution_count": null
  },
  {
   "metadata": {},
   "cell_type": "markdown",
   "source": "---",
   "id": "87db0ee557b9ef1a"
  },
  {
   "cell_type": "markdown",
   "id": "8f1e1d10d04b8d07",
   "metadata": {},
   "source": [
    "### L-BFGS-B"
   ]
  },
  {
   "cell_type": "markdown",
   "id": "b210b9c8016a1cb7",
   "metadata": {},
   "source": [
    "### Анализ поведения на функции №1"
   ]
  },
  {
   "cell_type": "code",
   "id": "8a46e97247c2748f",
   "metadata": {},
   "source": [
    "def wrapped_func(x):\n",
    "    val = new_func(x)\n",
    "    fx = float(val)\n",
    "    trajectory.append([x[0], x[1], fx])\n",
    "    return fx\n",
    "\n",
    "\n",
    "f_expr = x ** 2 + y ** 2 - 1\n",
    "new_func = Function(f_expr)\n",
    "\n",
    "trajectory = []\n",
    "\n",
    "jac_func = new_func.grad_numpy_callable()\n",
    "\n",
    "result = minimize(wrapped_func, x0=np.array([-1.56, 2.34]), method='L-BFGS-B', jac=jac_func)\n",
    "print(f'Минимум функции: {result.fun}')\n",
    "print(f'x: {result.x[0]}, y: {result.x[1]}')\n",
    "\n",
    "d3_create_graphic(x ** 2 + y ** 2 - 1, minimum=(0, 0, -1), dataset=trajectory)\n",
    "d3_create_graphic(x ** 2 + y ** 2 - 1, minimum=(0, 0, -1), dataset=trajectory, view_2d=True)"
   ],
   "outputs": [],
   "execution_count": null
  },
  {
   "metadata": {},
   "cell_type": "markdown",
   "source": "---",
   "id": "c4ca689208de7098"
  },
  {
   "cell_type": "markdown",
   "id": "ec9faae544cad711",
   "metadata": {},
   "source": [
    "### Анализ поведения на функции №2"
   ]
  },
  {
   "cell_type": "code",
   "id": "ad128c429f16ae22",
   "metadata": {},
   "source": [
    "def wrapped_func(x):\n",
    "    val = new_func(x)\n",
    "    fx = float(val)\n",
    "    trajectory.append([x[0], x[1], fx])\n",
    "    return fx\n",
    "\n",
    "\n",
    "np_func = sympy.sin(x) * sympy.cos(y) + x ** 2 + y ** 2\n",
    "new_func = Function(np_func)\n",
    "trajectory = []\n",
    "\n",
    "jac_func = new_func.grad_numpy_callable()\n",
    "\n",
    "result = minimize(wrapped_func, x0=np.array([-1.5, 1.5]), method='L-BFGS-B', jac=jac_func)\n",
    "print(f'Минимум функции: {result.fun}')\n",
    "print(f'x: {result.x[0]}, y: {result.x[1]}')\n",
    "\n",
    "d3_create_graphic(\n",
    "    new_func.function,\n",
    "    minimum=(result.x[0], result.x[1], result.fun),\n",
    "    dataset=trajectory\n",
    ")\n",
    "\n",
    "d3_create_graphic(\n",
    "    new_func.function,\n",
    "    minimum=(result.x[0], result.x[1], result.fun),\n",
    "    dataset=trajectory,\n",
    "    view_2d=True\n",
    ")"
   ],
   "outputs": [],
   "execution_count": null
  },
  {
   "cell_type": "markdown",
   "id": "d150953527efc218",
   "metadata": {},
   "source": [
    "---"
   ]
  },
  {
   "cell_type": "markdown",
   "id": "853c214e0ba8072",
   "metadata": {},
   "source": [
    "## Реализация квазиньютоновского метода"
   ]
  },
  {
   "cell_type": "markdown",
   "id": "e8a04fcc0885f6d8",
   "metadata": {},
   "source": [
    "### Квазиньютоновский метод (BFGS)\n",
    "\n",
    "Одним из наиболее популярных методов является метод Бройдена-Флетчера-Гольдфарба-Шанно (BFGS). Он сохраняет быструю сходимость метода Ньютона, но при этом более устойчив и применим, когда гессиан недоступен или дорог в вычислении. Собственно говоря, его мы и реализовали\n",
    "\n",
    "Метод BFGS использует следующую схему:\n",
    "\n",
    "- считаем градиент в текущей точке\n",
    "- движемся по направлению $p_k = -H_k \\nabla f(x_k)$\n",
    "- обновляем $H_k$ на основе изменений $x$ и градиента:\n",
    "  \n",
    "  $$\n",
    "  H_{k+1} = (I - \\rho_k s_k y_k^T) H_k (I - \\rho_k y_k s_k^T) + \\rho_k s_k s_k^T\n",
    "  $$\n",
    "\n",
    "где $s = x_{k+1} - x_k$, $y = \\nabla f_{k+1} - \\nabla f_k$, $\\rho = 1 / (y_k^T s_k)$.\n",
    "\n",
    "#### Реализация\n",
    "\n",
    "- `grad_func` и `func` — обёртки над `sympy`, возвращающие `numpy`-массивы\n",
    "- `H_k` — приближение к обратному Гессиану, инициализируется как единичная матрица\n",
    "- шаг `alpha` фиксированный\n",
    "- сохраняется траектория, используется для отрисовки графика\n",
    "\n",
    "При запуске с `.set_create_graphic()` автоматически рисуется график и траектория.\n",
    "\n",
    "#### Пример\n",
    "\n",
    "```python\n",
    "BackTrace(func).set_bfgs(alpha=1.0).set_create_graphic().start_back_trace()\n",
    "```\n",
    "---\n"
   ]
  },
  {
   "cell_type": "code",
   "id": "7417f0bcaabcf487",
   "metadata": {},
   "source": [
    "func = Function(sympy.sin(x) * sympy.cos(y) + x ** 2 + y ** 2)\n",
    "BackTrace(func).set_bfgs(alpha=1.0).set_create_graphic().start_back_trace(start_point=[1.54, -1.59])"
   ],
   "outputs": [],
   "execution_count": null
  },
  {
   "cell_type": "markdown",
   "id": "a53dfefcbff91691",
   "metadata": {},
   "source": [
    "---"
   ]
  },
  {
   "cell_type": "markdown",
   "id": "222b622fd1316a20",
   "metadata": {},
   "source": [
    "## Оптимизация гиперпараметров с помощью optuna"
   ]
  },
  {
   "cell_type": "markdown",
   "id": "2cc75b94331a9260",
   "metadata": {},
   "source": "### Проверим лучший константный шаг"
  },
  {
   "cell_type": "code",
   "id": "b6bf637539762768",
   "metadata": {},
   "source": [
    "from source.optima_func.path_to_optima import objective_constant_step\n",
    "import time\n",
    "import optuna\n",
    "from sympy import symbols\n",
    "\n",
    "study = optuna.create_study(directions=[\"minimize\", \"minimize\"])\n",
    "study.optimize(\n",
    "    lambda trial: objective_constant_step(trial, create_func=Function(x ** 2 + y ** 2), start_point=[100, 100]),\n",
    "    n_trials=50)\n",
    "\n",
    "best = min(\n",
    "    study.best_trials,\n",
    "    key=lambda t: t.values[0] + 0.05 * t.values[1]\n",
    ")\n",
    "\n",
    "print(\"Лучшая сбалансированная точка:\")\n",
    "print(\"Параметры:\", best.params)\n",
    "print(\"Функция:\", best.values[0], \"Время:\", best.values[1])\n",
    "\n"
   ],
   "outputs": [],
   "execution_count": null
  },
  {
   "metadata": {},
   "cell_type": "markdown",
   "source": "---",
   "id": "c0bda4e67d362fae"
  },
  {
   "cell_type": "markdown",
   "id": "dbca830e91598763",
   "metadata": {},
   "source": "### Проверим границы для дихотомии"
  },
  {
   "cell_type": "code",
   "id": "15f8455c471aaa3b",
   "metadata": {},
   "source": [
    "\n",
    "from source.optima_func.path_to_optima import objective_dichotomy_step\n",
    "\n",
    "study = optuna.create_study(directions=[\"minimize\", \"minimize\"])\n",
    "study.optimize(\n",
    "    lambda trial: objective_dichotomy_step(trial, create_func=Function(x ** 2 + y ** 2), start_point=[100, 100]),\n",
    "    n_trials=50)\n",
    "\n",
    "best = min(study.best_trials, key=lambda t: t.values[0] + 0.05 * t.values[1])  # точность + штраф за время\n",
    "\n",
    "print(\"Параметры лучшего trial-а:\")\n",
    "print(\"  left_border:\", best.params[\"left_border\"])\n",
    "print(\"  right_border:\", best.params[\"right_border\"])\n",
    "print(\"Функция:\", best.values[0], \"Время:\", best.values[1])"
   ],
   "outputs": [],
   "execution_count": null
  },
  {
   "metadata": {},
   "cell_type": "markdown",
   "source": [
    "---\n",
    "\n",
    "## Сравним BackTrace из ЛР1 и текущую реализацию"
   ],
   "id": "b7b8c65a16988edf"
  },
  {
   "metadata": {},
   "cell_type": "markdown",
   "source": [
    "Решая прошлую лабораторную работу, мы заметили, что градиентный спуск плохо работает для очень быстрорастущих функций. Например рассмотрим:\n",
    "\n",
    " $$ z = x^{10} + y^2 $$\n",
    "\n",
    "При запуске на какой-то далёкой от нуля точки, например на [500,500],\n",
    "\n",
    "значение нашей функции > 976 562 500 000 000 000 000 000 000, что в общем то не мало. После первой попытки пойти по антиградиенту (а это тоже ничего себе функция), мы попадём в ещё более далёкую точку, с ещё более большим значением функции. Туши свет.\n",
    "\n",
    "| Iterations | Step |     y     | x             | norma        | F                     |\n",
    "|------------|------|-----------|---------------|--------------|-----------------------|\n",
    "|     1      |  1   |  -500.0   | -1.953125e+25 | 1.953125e+25 | 8.07793566946316e+252 |\n",
    "|     2      |  1   |   500.0   | ...           | ....         | .....\n",
    "\n",
    "```OverflowError: (34, 'Result too large')```\n",
    "\n",
    "Посмотрим как с этой проблемой справится наш улучшенный спуск\n"
   ],
   "id": "4c6c69bfe549f907"
  },
  {
   "metadata": {},
   "cell_type": "code",
   "source": "BackTrace(Function(x**10 + y**2)).set_piecewise_constant().set_create_graphic().start_back_trace()",
   "id": "af0084760a39ddf4",
   "outputs": [],
   "execution_count": null
  },
  {
   "metadata": {},
   "cell_type": "markdown",
   "source": "Как можно заметить, мы победили ^^",
   "id": "e2e1f5720af08eff"
  },
  {
   "metadata": {},
   "cell_type": "markdown",
   "source": [
    "---\n",
    "Ужесточим ситуацию"
   ],
   "id": "4fec55655c3a49c4"
  },
  {
   "metadata": {},
   "cell_type": "code",
   "source": "BackTrace(Function(x**30 + y**30)).set_piecewise_constant().set_create_graphic().start_back_trace(start_point=[778, 46])",
   "id": "d4c389a98b1cb84c",
   "outputs": [],
   "execution_count": null
  },
  {
   "metadata": {},
   "cell_type": "markdown",
   "source": [
    "---\n",
    "Однако если мы запустим на не очень приятной функции, то тоже упадём, но уже на вычислении гессиана"
   ],
   "id": "4dd2e94d6206e679"
  },
  {
   "metadata": {},
   "cell_type": "code",
   "source": [
    "import traceback\n",
    "from sympy.core.evalf import PrecisionExhausted\n",
    "try:\n",
    "    BackTrace(Function(x**20 + y**13)).set_piecewise_constant().set_create_graphic().start_back_trace(start_point=[333, 927])\n",
    "except PrecisionExhausted as ex:\n",
    "    traceback.print_exc()\n",
    "\n"
   ],
   "id": "733d84509f652117",
   "outputs": [],
   "execution_count": null
  }
 ],
 "metadata": {
  "kernelspec": {
   "display_name": "Python 3 (ipykernel)",
   "language": "python",
   "name": "python3"
  },
  "language_info": {
   "codemirror_mode": {
    "name": "ipython",
    "version": 3
   },
   "file_extension": ".py",
   "mimetype": "text/x-python",
   "name": "python",
   "nbconvert_exporter": "python",
   "pygments_lexer": "ipython3",
   "version": "3.12.3"
  }
 },
 "nbformat": 4,
 "nbformat_minor": 5
}
